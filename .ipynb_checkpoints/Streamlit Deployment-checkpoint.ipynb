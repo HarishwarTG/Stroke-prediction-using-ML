{
 "cells": [
  {
   "cell_type": "code",
   "execution_count": 9,
   "id": "dd9161b9",
   "metadata": {},
   "outputs": [],
   "source": [
    "import streamlit as sts\n",
    "import numpy as np\n",
    "import pandas as pd\n",
    "import pickle\n",
    "from sklearn.preprocessing import StandardScaler"
   ]
  },
  {
   "cell_type": "markdown",
   "id": "8dd2d4cb",
   "metadata": {},
   "source": [
    "# Load Model"
   ]
  },
  {
   "cell_type": "code",
   "execution_count": 4,
   "id": "d293be91",
   "metadata": {},
   "outputs": [],
   "source": [
    "model = pickle.load(open('model.pkl','rb'))"
   ]
  },
  {
   "cell_type": "code",
   "execution_count": 6,
   "id": "b512977a",
   "metadata": {},
   "outputs": [
    {
     "data": {
      "text/plain": [
       "0"
      ]
     },
     "execution_count": 6,
     "metadata": {},
     "output_type": "execute_result"
    }
   ],
   "source": [
    "model.predict([[65, 1, 1, 0, 1, 200, 30, -1]])"
   ]
  },
  {
   "cell_type": "code",
   "execution_count": 8,
   "id": "b2378ace",
   "metadata": {},
   "outputs": [],
   "source": [
    "sts.title('Stroke Prediction using Machine Learning')\n",
    "\n",
    "age = sts.text_input('Enter Age', value=0, type='int')\n",
    "\n",
    "hypertension = sts.button('Hypertension', ['yes', 'no'])\n",
    "if hypertension == 'yes':\n",
    "    hypertension = 1\n",
    "else:\n",
    "    hypertension = 0\n",
    "\n",
    "heart_disease = sts.button('Heart disease', ['yes', 'no'])\n",
    "if heart_disease == 'yes':\n",
    "    heart_disease = 1\n",
    "else:\n",
    "    heart_disease = 0\n",
    "\n",
    "ever_married = sts.button('Married', ['yes', 'no'])\n",
    "if ever_married == 'yes':\n",
    "    ever_married = 1\n",
    "else:\n",
    "    ever_married = 0\n",
    "\n",
    "work_type = sts.radio('Work type', ['Private', 'Self-employed', 'Children', 'Never worked'])\n",
    "work_type_map = {'Private':0,'Self employed':1,'Govt job':2,'children':-1,'Never worked':-2}\n",
    "work_type=work_type_map[work_type]\n",
    "\n",
    "avg_glucose_level = sts.text_input('Enter Glucose level', value=0, type='int')\n",
    "bmi = sts.text_input('Enter BMI', value=0, type='int')\n",
    "\n",
    "smoking_status = sts.radio('Smoke status', ['never smoked', 'Unknown', 'formerly smoked', 'smokes'])\n",
    "smoke_map = {'never smoked': 0,'Unknown': 1,'formerly smoked':2,'smokes':-1}\n",
    "smoking_status=smoke_map[smoking_status]\n",
    "\n",
    "\n",
    "\n",
    "predict_value=sts.button('Predict',on_click='')\n"
   ]
  },
  {
   "cell_type": "code",
   "execution_count": 15,
   "id": "a65da6a2",
   "metadata": {},
   "outputs": [
    {
     "data": {
      "text/plain": [
       "int"
      ]
     },
     "execution_count": 15,
     "metadata": {},
     "output_type": "execute_result"
    }
   ],
   "source": []
  }
 ],
 "metadata": {
  "kernelspec": {
   "display_name": "Python 3 (ipykernel)",
   "language": "python",
   "name": "python3"
  },
  "language_info": {
   "codemirror_mode": {
    "name": "ipython",
    "version": 3
   },
   "file_extension": ".py",
   "mimetype": "text/x-python",
   "name": "python",
   "nbconvert_exporter": "python",
   "pygments_lexer": "ipython3",
   "version": "3.11.7"
  }
 },
 "nbformat": 4,
 "nbformat_minor": 5
}
