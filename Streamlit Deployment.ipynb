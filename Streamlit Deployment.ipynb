{
 "cells": [
  {
   "cell_type": "code",
   "execution_count": 1,
   "id": "dd9161b9",
   "metadata": {},
   "outputs": [],
   "source": [
    "import streamlit as sts\n",
    "import numpy as np\n",
    "import pandas as pd\n",
    "import pickle\n",
    "from sklearn.preprocessing import StandardScaler"
   ]
  },
  {
   "cell_type": "markdown",
   "id": "8dd2d4cb",
   "metadata": {},
   "source": [
    "# Load Model"
   ]
  },
  {
   "cell_type": "code",
   "execution_count": 10,
   "id": "d293be91",
   "metadata": {},
   "outputs": [],
   "source": [
    "model = pickle.load(open('model.pkl','rb'))"
   ]
  },
  {
   "cell_type": "code",
   "execution_count": 8,
   "id": "b2378ace",
   "metadata": {},
   "outputs": [],
   "source": [
    "sts.title('Stroke Prediction using Machine Learning')\n",
    "\n",
    "def predict_stroke(age, hypertension, heart_disease, ever_married, work_type, avg_glucose_level, bmi, smoking_status):\n",
    "    input_values = [[age, hypertension, heart_disease, ever_married, work_type, avg_glucose_level, bmi, smoking_status]]\n",
    "    prediction = model.predict(input_values)[0]\n",
    "    if prediction == 1:\n",
    "        return 'Shows indicators for stroke risk.'\n",
    "    else:\n",
    "        return 'Does not show indicators for stroke risk.'\n",
    "\n",
    "age = sts.number_input('Enter Age', value=0)\n",
    "hypertension = sts.radio('Hypertension', ['No', 'Yes'])\n",
    "hypertension = 1 if hypertension == 'Yes' else 0\n",
    "\n",
    "heart_disease = sts.radio('Heart disease', ['No', 'Yes'])\n",
    "heart_disease = 1 if heart_disease == 'Yes' else 0\n",
    "\n",
    "ever_married = sts.radio('Married', ['No', 'Yes'])\n",
    "ever_married = 1 if ever_married == 'Yes' else 0\n",
    "\n",
    "work_type = sts.selectbox('Work type', ['Private', 'Self-employed', 'Govt job', 'Children', 'Never worked'])\n",
    "work_type_map = {'Private': 0, 'Self-employed': 1, 'Govt job': 2, 'Children': -1, 'Never worked': -2}\n",
    "work_type = work_type_map[work_type]\n",
    "\n",
    "avg_glucose_level = sts.number_input('Enter Glucose level', value=0)\n",
    "bmi = sts.number_input('Enter BMI', value=0)\n",
    "\n",
    "smoking_status = sts.selectbox('Smoke status', ['never smoked', 'Unknown', 'formerly smoked', 'smokes'])\n",
    "smoke_map = {'never smoked': 0, 'Unknown': 1, 'formerly smoked': 2, 'smokes': -1}\n",
    "smoking_status = smoke_map[smoking_status]\n",
    "\n",
    "if sts.button('Predict'):\n",
    "    result = predict_stroke(age, hypertension, heart_disease, ever_married, work_type, avg_glucose_level, bmi, smoking_status)\n",
    "    sts.write(result)\n"
   ]
  },
  {
   "cell_type": "code",
   "execution_count": null,
   "id": "a65da6a2",
   "metadata": {},
   "outputs": [],
   "source": []
  }
 ],
 "metadata": {
  "kernelspec": {
   "display_name": "Python 3 (ipykernel)",
   "language": "python",
   "name": "python3"
  },
  "language_info": {
   "codemirror_mode": {
    "name": "ipython",
    "version": 3
   },
   "file_extension": ".py",
   "mimetype": "text/x-python",
   "name": "python",
   "nbconvert_exporter": "python",
   "pygments_lexer": "ipython3",
   "version": "3.11.7"
  }
 },
 "nbformat": 4,
 "nbformat_minor": 5
}
